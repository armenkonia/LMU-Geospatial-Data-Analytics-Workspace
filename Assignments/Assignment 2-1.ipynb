{
 "cells": [
  {
   "cell_type": "markdown",
   "id": "5f481c41",
   "metadata": {},
   "source": [
    "## Exercise 2.5 - Classifying temperatures\n",
    "Data classification is another useful data analysis concept, where data values are sorted into different groups that help you to interpret the data. Your goal in this exercise is to sort a list of temperatures into four categories using a Python list for each category (Table 2.7):\n",
    "\n",
    ": Table 2.7. Temperature categories and ranges for Exercise 2.5 and 2.7.\n",
    "\n",
    "Category\tTemperature range\tList name\n",
    "Cold\tLess than -2 deg. C\tcold\n",
    "Slippery\tGreater than or equal to -2 deg. C\tslippery\n",
    "and less than +2 deg. C\t\n",
    "Comfortable\tGreater than or equal to +2 deg. C\tcomfortable\n",
    "and less than +15 deg. C\t\n",
    "Warm\tGreater than or equal to +2 deg. C\twarm\n",
    "The list of temperatures below were measured at the Helsinki Malmi Airport in April 2013 with night, day, and evening temperatures recorded for each day.\n",
    "\n",
    "temperatures = [-5.4, 1.0, -1.3, -4.8, 3.9, 0.1, -4.4, 4.0, -2.2, -3.9, 4.4,\n",
    "                -2.5, -4.6, 5.1, 2.1, -2.4, 1.9, -3.3, -4.8, 1.0, -0.8, -2.8,\n",
    "                -0.1, -4.7, -5.6, 2.6, -2.7, -4.6, 3.4, -0.4, -0.9, 3.1, 2.4,\n",
    "                1.6, 4.2, 3.5, 2.6, 3.1, 2.2, 1.8, 3.3, 1.6, 1.5, 4.7, 4.0,\n",
    "                3.6, 4.9, 4.8, 5.3, 5.6, 4.1, 3.7, 7.6, 6.9, 5.1, 6.4, 3.8,\n",
    "                4.0, 8.6, 4.1, 1.4, 8.9, 3.0, 1.6, 8.5, 4.7, 6.6, 8.1, 4.5,\n",
    "                4.8, 11.3, 4.7, 5.2, 11.5, 6.2, 2.9, 4.3, 2.8, 2.8, 6.3, 2.6,\n",
    "                -0.0, 7.3, 3.4, 4.7, 9.3, 6.4, 5.4, 7.6, 5.2]\n",
    "For this exercise you should:\n",
    "Use a for loop and conditional statments (e.g., if, elif, and else) to sort the temperatures in the list into the lists associated with each category (see Table 2.7).\n",
    "Hint: Create the empty lists before the start of the for loop.\n",
    "Answer the following questions:\n",
    "How many times was it cold in Helsinki in April 2013?\n",
    "How many times was it comfortable?\n",
    "Was it ever warm?"
   ]
  },
  {
   "cell_type": "code",
   "execution_count": 8,
   "id": "3b4cbb8b",
   "metadata": {},
   "outputs": [],
   "source": [
    "temperatures = [-5.4, 1.0, -1.3, -4.8, 3.9, 0.1, -4.4, 4.0, -2.2, -3.9, 4.4,\n",
    "                -2.5, -4.6, 5.1, 2.1, -2.4, 1.9, -3.3, -4.8, 1.0, -0.8, -2.8,\n",
    "                -0.1, -4.7, -5.6, 2.6, -2.7, -4.6, 3.4, -0.4, -0.9, 3.1, 2.4,\n",
    "                1.6, 4.2, 3.5, 2.6, 3.1, 2.2, 1.8, 3.3, 1.6, 1.5, 4.7, 4.0,\n",
    "\n",
    "                4.8, 11.3, 4.7, 5.2, 11.5, 6.2, 2.9, 4.3, 2.8, 2.8, 6.3, 2.6,\n",
    "                -0.0, 7.3, 3.4, 4.7, 9.3, 6.4, 5.4, 7.6, 5.2]\n",
    "\n",
    "cold = []\n",
    "slippery = []\n",
    "comfortable = []\n",
    "warm = []\n",
    "\n",
    "for temperature in temperatures:\n",
    "    if temperature < -2:\n",
    "        cold.append(temperature)\n",
    "    elif temperature >= -2 and temperature < 2:\n",
    "        slippery.append(temperature)\n",
    "    elif temperature >= +2:\n",
    "            warm.append(temperature)\n",
    "            if temperature < 15:\n",
    "                comfortable.append(temperature)\n",
    "    "
   ]
  },
  {
   "cell_type": "code",
   "execution_count": 9,
   "id": "bf7b0bb3",
   "metadata": {},
   "outputs": [
    {
     "data": {
      "text/plain": [
       "15"
      ]
     },
     "execution_count": 9,
     "metadata": {},
     "output_type": "execute_result"
    }
   ],
   "source": [
    "len(cold)"
   ]
  },
  {
   "cell_type": "code",
   "execution_count": 10,
   "id": "b3a56566",
   "metadata": {},
   "outputs": [
    {
     "data": {
      "text/plain": [
       "59"
      ]
     },
     "execution_count": 10,
     "metadata": {},
     "output_type": "execute_result"
    }
   ],
   "source": [
    "len (comfortable)"
   ]
  },
  {
   "cell_type": "code",
   "execution_count": 12,
   "id": "a5b7a203",
   "metadata": {},
   "outputs": [
    {
     "data": {
      "text/plain": [
       "59"
      ]
     },
     "execution_count": 12,
     "metadata": {},
     "output_type": "execute_result"
    }
   ],
   "source": [
    "len(warm) #the weather is is never too hot since all of the warm values are also in the comfortable range"
   ]
  },
  {
   "cell_type": "markdown",
   "id": "657331ca",
   "metadata": {},
   "source": [
    "## Exercise 2.6 - A temperature conversion function\n",
    "Functions are commonly used for small calculations that occur frequently within a program, such as converting between units.\n",
    "\n",
    "For this problem you should:\n",
    "\n",
    "Create a function to converts temperature in degrees Fahrenheit to degrees Celsius.\n",
    "Be sure to include a docstring in the function definition.\n",
    "Use the new function to convert the temperatures below to Celsius:\n",
    "32 °F\n",
    "68 °F\n",
    "91 °F\n",
    "-17 °F"
   ]
  },
  {
   "cell_type": "code",
   "execution_count": 14,
   "id": "c5345e07",
   "metadata": {},
   "outputs": [
    {
     "data": {
      "text/plain": [
       "[0.0, 20.0, 32.78, -27.22]"
      ]
     },
     "execution_count": 14,
     "metadata": {},
     "output_type": "execute_result"
    }
   ],
   "source": [
    "def convert_Fah_Cel (temp):\n",
    "    return (temp - 32)*5/9\n",
    "tempF = [32,68,91,-17]\n",
    "tempC = []\n",
    "for temp in tempF:\n",
    "    temperature = round(convert_Fah_Cel (temp),2)\n",
    "    tempC.append(temperature)\n",
    "\n",
    "tempC"
   ]
  },
  {
   "cell_type": "markdown",
   "id": "ffb10405",
   "metadata": {},
   "source": [
    "## Exercise 2.7 - A temperature classifier function\n",
    "This exercise uses the same logic presented in Exercise 2.5 to classify temperatures, but now using a function.\n",
    "\n",
    "In this exercise you should:\n",
    "\n",
    "Create a function that classifies temperatures based on Table 2.8.\n",
    "The function should return the following values for the different categories\n",
    "0: Cold\n",
    "1: Slippery\n",
    "2: Comfortable\n",
    "3: Warm\n",
    "\n",
    "Use the function to calculate the returned value the following temperatures:\n",
    "+17 °C\n",
    "+2 °C\n",
    "+1.9 °C\n",
    "-2 °C"
   ]
  },
  {
   "cell_type": "code",
   "execution_count": 20,
   "id": "3f458861",
   "metadata": {},
   "outputs": [],
   "source": [
    "def classify_temp (temperature):\n",
    "    if temperature < -2:\n",
    "        return 0\n",
    "    elif temperature >= -2 and temperature < 2:\n",
    "        return 1\n",
    "    elif temperature >= 2 and temperature < 15:\n",
    "        return 2\n",
    "    elif temperature >= 2:\n",
    "        return 3"
   ]
  },
  {
   "cell_type": "code",
   "execution_count": 21,
   "id": "9a2384f8",
   "metadata": {},
   "outputs": [
    {
     "name": "stdout",
     "output_type": "stream",
     "text": [
      "17 is in category 3\n",
      "2 is in category 2\n",
      "1.9 is in category 1\n",
      "-2 is in category 1\n"
     ]
    }
   ],
   "source": [
    "temperatures = [17,2,1.9,-2]\n",
    "for temperature in temperatures:\n",
    "    classification = classify_temp(temperature)\n",
    "    print(f'{temperature} is in category {classification}')"
   ]
  }
 ],
 "metadata": {
  "kernelspec": {
   "display_name": "Python 3",
   "language": "python",
   "name": "python3"
  },
  "language_info": {
   "codemirror_mode": {
    "name": "ipython",
    "version": 3
   },
   "file_extension": ".py",
   "mimetype": "text/x-python",
   "name": "python",
   "nbconvert_exporter": "python",
   "pygments_lexer": "ipython3",
   "version": "3.10.4"
  },
  "vscode": {
   "interpreter": {
    "hash": "e2e13e9da226161ba8eabdb748f1a8dd4a3b8a8f9aa16fedf58ae84e73922a42"
   }
  }
 },
 "nbformat": 4,
 "nbformat_minor": 5
}
